{
 "cells": [
  {
   "cell_type": "code",
   "execution_count": null,
   "metadata": {},
   "outputs": [],
   "source": [
    "import torch\n",
    "import torchvision.models as md\n",
    "from utils import disable_gradient_flow_for_model\n",
    "\n",
    "from APT import run_projection"
   ]
  },
  {
   "cell_type": "code",
   "execution_count": null,
   "metadata": {},
   "outputs": [],
   "source": [
    "perceptor_path = \"ResNet50_ImageNet_PRIME_noJSD.ckpt\"\n",
    "device = \"cuda\"\n",
    "perceptor = md.resnet50(pretrained=True)\n",
    "perceptor.eval().requires_grad_(False)\n",
    "base_model=torch.load(perceptor_path)\n",
    "perceptor.load_state_dict(base_model)\n",
    "disable_gradient_flow_for_model(perceptor,device)"
   ]
  },
  {
   "cell_type": "code",
   "execution_count": null,
   "metadata": {},
   "outputs": [],
   "source": [
    "run_projection(\"/data/\", perceptor,save_video=True,inv_steps=1000,run_pti=True,pti_steps=350,device=device)"
   ]
  }
 ],
 "metadata": {
  "language_info": {
   "name": "python"
  },
  "orig_nbformat": 4
 },
 "nbformat": 4,
 "nbformat_minor": 2
}
